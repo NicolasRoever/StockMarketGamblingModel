{
 "cells": [
  {
   "cell_type": "code",
   "execution_count": null,
   "metadata": {},
   "outputs": [],
   "source": [
    "import sympy as sym\n",
    "from IPython.display import display\n",
    "from sympy import symbols\n",
    "from sympy.abc import W, p, x"
   ]
  },
  {
   "cell_type": "code",
   "execution_count": null,
   "metadata": {},
   "outputs": [],
   "source": []
  },
  {
   "cell_type": "code",
   "execution_count": null,
   "metadata": {},
   "outputs": [],
   "source": [
    "p = symbols(\"p\")\n",
    "W_1 = 1\n",
    "x_1 = symbols(\"x_1\")\n",
    "W_2 = 1\n",
    "x_2 = symbols(\"x_2\")\n",
    "\n",
    "prob_e_high = 0.5\n",
    "prob_R_high = 0.1\n",
    "\n",
    "Return_R_high = 10\n",
    "Return_R_low = 0.8\n",
    "\n",
    "Return_e_high = 1.2\n",
    "Return_e_low = 0.8\n",
    "\n",
    "gamma = 2"
   ]
  },
  {
   "cell_type": "code",
   "execution_count": null,
   "metadata": {},
   "outputs": [],
   "source": [
    "x = sym.Symbol(\"x\")\n",
    "p = sym.Symbol(\"p\")\n",
    "W = sym.Symbol(\"W\")\n",
    "result = sym.nonlinsolve(\n",
    "    [\n",
    "        prob_e_high\n",
    "        * prob_R_high\n",
    "        * ((Return_e_high + x * (Return_R_high - p) + W) ** (-gamma))\n",
    "        * (Return_R_high - p)\n",
    "        + prob_e_high\n",
    "        * (1 - prob_R_high)\n",
    "        * ((Return_e_high + x * (Return_R_low - p) + W) ** (-gamma))\n",
    "        * (Return_R_low - p)\n",
    "        + (1 - prob_e_high)\n",
    "        * prob_R_high\n",
    "        * ((Return_e_low + x * (Return_R_high - p) + W) ** (-gamma))\n",
    "        * (Return_R_high - p)\n",
    "        + (1 - prob_e_high)\n",
    "        * (1 - prob_R_high)\n",
    "        * ((Return_e_low + x * (Return_R_low - p) + W) ** (-gamma))\n",
    "        * (Return_R_low - p),\n",
    "    ],\n",
    "    x,\n",
    ")"
   ]
  },
  {
   "cell_type": "code",
   "execution_count": null,
   "metadata": {},
   "outputs": [],
   "source": [
    "display(result)"
   ]
  }
 ],
 "metadata": {
  "language_info": {
   "codemirror_mode": {
    "name": "ipython",
    "version": 3
   },
   "file_extension": ".py",
   "mimetype": "text/x-python",
   "name": "python",
   "nbconvert_exporter": "python",
   "pygments_lexer": "ipython3"
  }
 },
 "nbformat": 4,
 "nbformat_minor": 2
}
