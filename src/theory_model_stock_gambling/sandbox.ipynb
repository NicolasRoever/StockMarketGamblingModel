{
 "cells": [
  {
   "cell_type": "code",
   "execution_count": null,
   "metadata": {},
   "outputs": [],
   "source": [
    "import sympy as sym\n",
    "from IPython.display import display\n",
    "from sympy import nsolve, symbols\n",
    "from sympy.abc import W, p, x"
   ]
  },
  {
   "cell_type": "code",
   "execution_count": null,
   "metadata": {},
   "outputs": [],
   "source": [
    "p = symbols(\"p\")\n",
    "W_1 = 1\n",
    "x_1 = symbols(\"x_1\")\n",
    "W_2 = 1\n",
    "x_2 = symbols(\"x_2\")\n",
    "\n",
    "prob_e_high = 0.5\n",
    "prob_R_high = 0.1\n",
    "\n",
    "Return_R_high = 10\n",
    "Return_R_low = 0.8\n",
    "\n",
    "Return_e_high = 1.2\n",
    "Return_e_low = 0.8"
   ]
  },
  {
   "cell_type": "code",
   "execution_count": null,
   "metadata": {},
   "outputs": [],
   "source": [
    "optimization_function_agent_1 = (\n",
    "    prob_e_high\n",
    "    * prob_R_high\n",
    "    * (Return_R_high - p)\n",
    "    / (W_1 + Return_e_high + x_1 * (Return_R_high - p))\n",
    ")\n",
    "+prob_e_high * (1 - prob_R_high) * (Return_R_low - p) / (\n",
    "    W_1 + Return_e_high + x_1 * (Return_R_low - p)\n",
    ")\n",
    "+(1 - prob_e_high) * prob_R_high(Return_R_high - p) / (\n",
    "    W_1 + Return_e_low + x_1 * (Return_R_high - p)\n",
    ")\n",
    "+(1 - prob_e_high) * (1 - prob_R_high) * (Return_R_low - p) / (\n",
    "    W_1 + Return_e_low + x_1 * (Return_R_low - p)\n",
    ")"
   ]
  },
  {
   "cell_type": "code",
   "execution_count": null,
   "metadata": {},
   "outputs": [],
   "source": [
    "optimization_function_agent_2 = (\n",
    "    0.05 * (10 - p) / (W_2 + 1.2 + x_2 * (10 - p))\n",
    "    + 0.45 * (0.8 - p) / (W_2 + 1.2 + x_2 * (0.8 - p))\n",
    "    + 0.05 * (10 - p) / (W_2 + 0.8 + x_2 * (10 - p))\n",
    "    + 0.45 * (0.8 - p) / (W_2 + 0.8 + x_2 * (0.8 - p))\n",
    ")"
   ]
  },
  {
   "cell_type": "code",
   "execution_count": null,
   "metadata": {},
   "outputs": [],
   "source": [
    "market_clearing_condition_function = x_1 + x_2 - 1"
   ]
  },
  {
   "cell_type": "code",
   "execution_count": null,
   "metadata": {},
   "outputs": [],
   "source": [
    "equation_system = [\n",
    "    optimization_function_agent_1,\n",
    "    optimization_function_agent_2,\n",
    "    market_clearing_condition_function,\n",
    "]"
   ]
  },
  {
   "cell_type": "code",
   "execution_count": null,
   "metadata": {},
   "outputs": [],
   "source": [
    "equation_system"
   ]
  },
  {
   "cell_type": "code",
   "execution_count": null,
   "metadata": {},
   "outputs": [],
   "source": [
    "equilibrium_result = nsolve(equation_system, [x_1, x_2, p], [1, 1, 1])"
   ]
  },
  {
   "cell_type": "code",
   "execution_count": null,
   "metadata": {},
   "outputs": [],
   "source": [
    "display(equilibrium_result)"
   ]
  },
  {
   "cell_type": "code",
   "execution_count": null,
   "metadata": {},
   "outputs": [],
   "source": [
    "equilibrium_result[0]"
   ]
  },
  {
   "cell_type": "code",
   "execution_count": null,
   "metadata": {},
   "outputs": [],
   "source": [
    "x = sym.Symbol(\"x\")\n",
    "p = sym.Symbol(\"p\")\n",
    "W = sym.Symbol(\"W\")\n",
    "result = sym.nonlinsolve(\n",
    "    [\n",
    "        0.05 * (10 - p) / (W + 1.2 + x * (10 - p))\n",
    "        + 0.45 * (0.8 - p) / (W + 1.2 + x * (0.8 - p))\n",
    "        + 0.05 * (10 - p) / (W + 0.8 + x * (10 - p))\n",
    "        + 0.45 * (0.8 - p) / (W + 0.8 + x * (0.8 - p)),\n",
    "    ],\n",
    "    x,\n",
    ")"
   ]
  },
  {
   "cell_type": "code",
   "execution_count": null,
   "metadata": {},
   "outputs": [],
   "source": []
  }
 ],
 "metadata": {
  "language_info": {
   "codemirror_mode": {
    "name": "ipython",
    "version": 3
   },
   "file_extension": ".py",
   "mimetype": "text/x-python",
   "name": "python",
   "nbconvert_exporter": "python",
   "pygments_lexer": "ipython3"
  }
 },
 "nbformat": 4,
 "nbformat_minor": 2
}
